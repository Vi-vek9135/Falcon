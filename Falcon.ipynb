{
  "metadata": {
    "kernelspec": {
      "language": "python",
      "display_name": "Python 3",
      "name": "python3"
    },
    "language_info": {
      "name": "python",
      "version": "3.10.13",
      "mimetype": "text/x-python",
      "codemirror_mode": {
        "name": "ipython",
        "version": 3
      },
      "pygments_lexer": "ipython3",
      "nbconvert_exporter": "python",
      "file_extension": ".py"
    },
    "kaggle": {
      "accelerator": "none",
      "dataSources": [],
      "dockerImageVersionId": 30646,
      "isInternetEnabled": true,
      "language": "python",
      "sourceType": "notebook",
      "isGpuEnabled": false
    },
    "colab": {
      "name": "Falcon",
      "provenance": [],
      "include_colab_link": true
    }
  },
  "nbformat_minor": 0,
  "nbformat": 4,
  "cells": [
    {
      "cell_type": "markdown",
      "metadata": {
        "id": "view-in-github",
        "colab_type": "text"
      },
      "source": [
        "<a href=\"https://colab.research.google.com/github/Vi-vek9135/Falcon/blob/main/Falcon.ipynb\" target=\"_parent\"><img src=\"https://colab.research.google.com/assets/colab-badge.svg\" alt=\"Open In Colab\"/></a>"
      ]
    },
    {
      "cell_type": "code",
      "source": [
        "from transformers import AutoTokenizer, AutoModelForCausalLM\n",
        "import transformers\n",
        "import torch"
      ],
      "metadata": {
        "execution": {
          "iopub.status.busy": "2024-02-19T06:32:30.037643Z",
          "iopub.execute_input": "2024-02-19T06:32:30.038259Z",
          "iopub.status.idle": "2024-02-19T06:32:36.889685Z",
          "shell.execute_reply.started": "2024-02-19T06:32:30.038205Z",
          "shell.execute_reply": "2024-02-19T06:32:36.888671Z"
        },
        "trusted": true,
        "id": "-5VulygfMKft"
      },
      "execution_count": null,
      "outputs": []
    },
    {
      "cell_type": "code",
      "source": [
        "model = \"tiiuae/falcon-7b\"\n",
        "\n",
        "tokenizer = AutoTokenizer.from_pretrained(model)"
      ],
      "metadata": {
        "execution": {
          "iopub.status.busy": "2024-02-19T06:32:36.891205Z",
          "iopub.execute_input": "2024-02-19T06:32:36.891602Z",
          "iopub.status.idle": "2024-02-19T06:32:37.612231Z",
          "shell.execute_reply.started": "2024-02-19T06:32:36.891579Z",
          "shell.execute_reply": "2024-02-19T06:32:37.611295Z"
        },
        "trusted": true,
        "id": "gefZ9Y7zMKfx",
        "outputId": "28283c72-f482-4d84-a12c-69c39aca2adb",
        "colab": {
          "referenced_widgets": [
            "dd09bae0cad2410c8b0fabeb480f3e4b",
            "a97079333f57468c8208bc74c95e8103",
            "79e1a6098e294acbad5cd4960f57b29d"
          ]
        }
      },
      "execution_count": null,
      "outputs": [
        {
          "output_type": "display_data",
          "data": {
            "text/plain": "tokenizer_config.json:   0%|          | 0.00/287 [00:00<?, ?B/s]",
            "application/vnd.jupyter.widget-view+json": {
              "version_major": 2,
              "version_minor": 0,
              "model_id": "dd09bae0cad2410c8b0fabeb480f3e4b"
            }
          },
          "metadata": {}
        },
        {
          "output_type": "display_data",
          "data": {
            "text/plain": "tokenizer.json:   0%|          | 0.00/2.73M [00:00<?, ?B/s]",
            "application/vnd.jupyter.widget-view+json": {
              "version_major": 2,
              "version_minor": 0,
              "model_id": "a97079333f57468c8208bc74c95e8103"
            }
          },
          "metadata": {}
        },
        {
          "output_type": "display_data",
          "data": {
            "text/plain": "special_tokens_map.json:   0%|          | 0.00/281 [00:00<?, ?B/s]",
            "application/vnd.jupyter.widget-view+json": {
              "version_major": 2,
              "version_minor": 0,
              "model_id": "79e1a6098e294acbad5cd4960f57b29d"
            }
          },
          "metadata": {}
        }
      ]
    },
    {
      "cell_type": "code",
      "source": [
        "pipeline = transformers.pipeline(\n",
        "    \"text-generation\",\n",
        "    model=model,\n",
        "    tokenizer=tokenizer,\n",
        "    torch_dtype=torch.bfloat16,\n",
        "    trust_remote_code=True,\n",
        "    device_map=\"auto\",\n",
        ")"
      ],
      "metadata": {
        "execution": {
          "iopub.status.busy": "2024-02-19T06:32:37.613968Z",
          "iopub.execute_input": "2024-02-19T06:32:37.614436Z",
          "iopub.status.idle": "2024-02-19T06:34:17.087143Z",
          "shell.execute_reply.started": "2024-02-19T06:32:37.614397Z",
          "shell.execute_reply": "2024-02-19T06:34:17.081483Z"
        },
        "trusted": true,
        "id": "sl7-n-oHMKfz",
        "outputId": "0369b9af-72dd-4fe6-f7fd-e23a55452b89",
        "colab": {
          "referenced_widgets": [
            "8177fb9aea9d4dcb97b889dbfea25f03",
            "e2f20930d2b94aa3b37c2a4a394587c9",
            "b3047e15c91e4a5b879c6cc4355a10e8",
            "83500ac462b044dab32d8c15f85c8dca",
            "39ef320e1bd2455a9b3fbd9f24c61c59",
            "72b9d72d5f094743bc962367fcfb5045",
            "8eab570359404d95ba1c94e4752cc52a",
            "43f45bb39ce14084b669622d82d463ee",
            "7dbf9976725c46609b3f6942fc5951d5"
          ]
        }
      },
      "execution_count": null,
      "outputs": [
        {
          "name": "stderr",
          "text": "2024-02-19 06:32:39.717584: E external/local_xla/xla/stream_executor/cuda/cuda_dnn.cc:9261] Unable to register cuDNN factory: Attempting to register factory for plugin cuDNN when one has already been registered\n2024-02-19 06:32:39.717715: E external/local_xla/xla/stream_executor/cuda/cuda_fft.cc:607] Unable to register cuFFT factory: Attempting to register factory for plugin cuFFT when one has already been registered\n2024-02-19 06:32:39.881103: E external/local_xla/xla/stream_executor/cuda/cuda_blas.cc:1515] Unable to register cuBLAS factory: Attempting to register factory for plugin cuBLAS when one has already been registered\n",
          "output_type": "stream"
        },
        {
          "output_type": "display_data",
          "data": {
            "text/plain": "config.json:   0%|          | 0.00/1.05k [00:00<?, ?B/s]",
            "application/vnd.jupyter.widget-view+json": {
              "version_major": 2,
              "version_minor": 0,
              "model_id": "8177fb9aea9d4dcb97b889dbfea25f03"
            }
          },
          "metadata": {}
        },
        {
          "output_type": "display_data",
          "data": {
            "text/plain": "configuration_falcon.py:   0%|          | 0.00/7.16k [00:00<?, ?B/s]",
            "application/vnd.jupyter.widget-view+json": {
              "version_major": 2,
              "version_minor": 0,
              "model_id": "e2f20930d2b94aa3b37c2a4a394587c9"
            }
          },
          "metadata": {}
        },
        {
          "name": "stderr",
          "text": "A new version of the following files was downloaded from https://huggingface.co/tiiuae/falcon-7b:\n- configuration_falcon.py\n. Make sure to double-check they do not contain any added malicious code. To avoid downloading new versions of the code file, you can pin a revision.\n",
          "output_type": "stream"
        },
        {
          "output_type": "display_data",
          "data": {
            "text/plain": "modeling_falcon.py:   0%|          | 0.00/56.9k [00:00<?, ?B/s]",
            "application/vnd.jupyter.widget-view+json": {
              "version_major": 2,
              "version_minor": 0,
              "model_id": "b3047e15c91e4a5b879c6cc4355a10e8"
            }
          },
          "metadata": {}
        },
        {
          "name": "stderr",
          "text": "A new version of the following files was downloaded from https://huggingface.co/tiiuae/falcon-7b:\n- modeling_falcon.py\n. Make sure to double-check they do not contain any added malicious code. To avoid downloading new versions of the code file, you can pin a revision.\n",
          "output_type": "stream"
        },
        {
          "output_type": "display_data",
          "data": {
            "text/plain": "pytorch_model.bin.index.json:   0%|          | 0.00/16.9k [00:00<?, ?B/s]",
            "application/vnd.jupyter.widget-view+json": {
              "version_major": 2,
              "version_minor": 0,
              "model_id": "83500ac462b044dab32d8c15f85c8dca"
            }
          },
          "metadata": {}
        },
        {
          "output_type": "display_data",
          "data": {
            "text/plain": "Downloading shards:   0%|          | 0/2 [00:00<?, ?it/s]",
            "application/vnd.jupyter.widget-view+json": {
              "version_major": 2,
              "version_minor": 0,
              "model_id": "39ef320e1bd2455a9b3fbd9f24c61c59"
            }
          },
          "metadata": {}
        },
        {
          "output_type": "display_data",
          "data": {
            "text/plain": "pytorch_model-00001-of-00002.bin:   0%|          | 0.00/9.95G [00:00<?, ?B/s]",
            "application/vnd.jupyter.widget-view+json": {
              "version_major": 2,
              "version_minor": 0,
              "model_id": "72b9d72d5f094743bc962367fcfb5045"
            }
          },
          "metadata": {}
        },
        {
          "output_type": "display_data",
          "data": {
            "text/plain": "pytorch_model-00002-of-00002.bin:   0%|          | 0.00/4.48G [00:00<?, ?B/s]",
            "application/vnd.jupyter.widget-view+json": {
              "version_major": 2,
              "version_minor": 0,
              "model_id": "8eab570359404d95ba1c94e4752cc52a"
            }
          },
          "metadata": {}
        },
        {
          "output_type": "display_data",
          "data": {
            "text/plain": "Loading checkpoint shards:   0%|          | 0/2 [00:00<?, ?it/s]",
            "application/vnd.jupyter.widget-view+json": {
              "version_major": 2,
              "version_minor": 0,
              "model_id": "43f45bb39ce14084b669622d82d463ee"
            }
          },
          "metadata": {}
        },
        {
          "name": "stderr",
          "text": "/opt/conda/lib/python3.10/site-packages/torch/_utils.py:831: UserWarning: TypedStorage is deprecated. It will be removed in the future and UntypedStorage will be the only storage class. This should only matter to you if you are using storages directly.  To access UntypedStorage directly, use tensor.untyped_storage() instead of tensor.storage()\n  return self.fget.__get__(instance, owner)()\n",
          "output_type": "stream"
        },
        {
          "output_type": "display_data",
          "data": {
            "text/plain": "generation_config.json:   0%|          | 0.00/117 [00:00<?, ?B/s]",
            "application/vnd.jupyter.widget-view+json": {
              "version_major": 2,
              "version_minor": 0,
              "model_id": "7dbf9976725c46609b3f6942fc5951d5"
            }
          },
          "metadata": {}
        }
      ]
    },
    {
      "cell_type": "code",
      "source": [
        "fact = \"Physical or mental torture.\""
      ],
      "metadata": {
        "execution": {
          "iopub.status.busy": "2024-02-19T06:34:17.08986Z",
          "iopub.execute_input": "2024-02-19T06:34:17.090852Z",
          "iopub.status.idle": "2024-02-19T06:34:17.095245Z",
          "shell.execute_reply.started": "2024-02-19T06:34:17.090821Z",
          "shell.execute_reply": "2024-02-19T06:34:17.093963Z"
        },
        "trusted": true,
        "id": "zePPFSZUMKf0"
      },
      "execution_count": null,
      "outputs": []
    },
    {
      "cell_type": "code",
      "source": [
        "sequences = pipeline(\n",
        "   f\"You have to generate Enhanced facts based on fact, for example Fact: Loan pending with the bank, then the Enhanced Fact: A loan is pending with a bank,  then for Fact: '{fact}'\",\n",
        "    max_length=200,\n",
        "    do_sample=True,\n",
        "    top_k=10,\n",
        "    num_return_sequences=1,\n",
        "    eos_token_id=tokenizer.eos_token_id,\n",
        ")"
      ],
      "metadata": {
        "execution": {
          "iopub.status.busy": "2024-02-19T06:34:17.097179Z",
          "iopub.execute_input": "2024-02-19T06:34:17.098568Z",
          "iopub.status.idle": "2024-02-19T06:49:24.741504Z",
          "shell.execute_reply.started": "2024-02-19T06:34:17.098533Z",
          "shell.execute_reply": "2024-02-19T06:49:24.74004Z"
        },
        "trusted": true,
        "id": "3dR9HSGBMKf0",
        "outputId": "4eb01928-1621-4d1b-d97e-cc1f12a0ad34"
      },
      "execution_count": null,
      "outputs": [
        {
          "name": "stderr",
          "text": "Truncation was not explicitly activated but `max_length` is provided a specific value, please use `truncation=True` to explicitly truncate examples to max length. Defaulting to 'longest_first' truncation strategy. If you encode pairs of sequences (GLUE-style) with the tokenizer you can select this strategy more precisely by providing a specific strategy to `truncation`.\nSetting `pad_token_id` to `eos_token_id`:11 for open-end generation.\n",
          "output_type": "stream"
        }
      ]
    },
    {
      "cell_type": "code",
      "source": [
        "for seq in sequences:\n",
        "    print(f\"Result: {seq['generated_text']}\")"
      ],
      "metadata": {
        "execution": {
          "iopub.status.busy": "2024-02-19T06:49:24.743593Z",
          "iopub.execute_input": "2024-02-19T06:49:24.74392Z",
          "iopub.status.idle": "2024-02-19T06:49:24.750316Z",
          "shell.execute_reply.started": "2024-02-19T06:49:24.743895Z",
          "shell.execute_reply": "2024-02-19T06:49:24.748452Z"
        },
        "trusted": true,
        "id": "m5jKj5-MMKf1",
        "outputId": "ab5c0613-f52f-4f72-ced0-10da353bd124"
      },
      "execution_count": null,
      "outputs": [
        {
          "name": "stdout",
          "text": "Result: You have to generate Enhanced facts based on fact, for example Fact: Loan pending with the bank, then the Enhanced Fact: A loan is pending with a bank,  then for Fact: 'Physical or mental torture.' then the enhanced fact: 'Mental, emotional or physical torture'.  This is done through a process call 'enriching'. \nThe following article explains how to enrich data.\n\nYou can use 'enrichment' for any field in your data set, and you can also use it as an option in your model. This article explains how you can do that.\n\nThe following video shows how to create a new field using Enrichment. \n\nThe following image shows the field created using Enrichment. \nIn the following example, 'Enrichment' is a function of the 'Customer' entity.\nThe following image shows the 'customer' entity and the 'enrichment\n",
          "output_type": "stream"
        }
      ]
    },
    {
      "cell_type": "code",
      "source": [
        "print(sequences)"
      ],
      "metadata": {
        "execution": {
          "iopub.status.busy": "2024-02-19T07:01:00.919101Z",
          "iopub.execute_input": "2024-02-19T07:01:00.921102Z",
          "iopub.status.idle": "2024-02-19T07:01:00.931613Z",
          "shell.execute_reply.started": "2024-02-19T07:01:00.921056Z",
          "shell.execute_reply": "2024-02-19T07:01:00.92976Z"
        },
        "trusted": true,
        "id": "gfmTwQqqMKf1",
        "outputId": "e7840124-3fdd-4273-82fd-26e848ae5b1c"
      },
      "execution_count": null,
      "outputs": [
        {
          "name": "stdout",
          "text": "[{'generated_text': \"You have to generate Enhanced facts based on fact, for example Fact: Loan pending with the bank, then the Enhanced Fact: A loan is pending with a bank,  then for Fact: 'Physical or mental torture.' then the enhanced fact: 'Mental, emotional or physical torture'.  This is done through a process call 'enriching'. \\nThe following article explains how to enrich data.\\n\\nYou can use 'enrichment' for any field in your data set, and you can also use it as an option in your model. This article explains how you can do that.\\n\\nThe following video shows how to create a new field using Enrichment. \\n\\nThe following image shows the field created using Enrichment. \\nIn the following example, 'Enrichment' is a function of the 'Customer' entity.\\nThe following image shows the 'customer' entity and the 'enrichment\"}]\n",
          "output_type": "stream"
        }
      ]
    }
  ]
}